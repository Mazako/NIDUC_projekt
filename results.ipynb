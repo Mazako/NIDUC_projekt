{
 "cells": [
  {
   "cell_type": "code",
   "execution_count": 1,
   "metadata": {
    "collapsed": true,
    "ExecuteTime": {
     "end_time": "2023-06-05T19:45:19.625926100Z",
     "start_time": "2023-06-05T19:45:19.143418700Z"
    }
   },
   "outputs": [],
   "source": [
    "import numpy as np\n",
    "import pandas as pd\n",
    "from IPython.display import display, HTML\n",
    "from reed_solomon_code.ReedSolomonCode import ReedSolomonCode\n",
    "\n",
    "def rs_params_calc(m, t):\n",
    "    n = pow(2, m) - 1\n",
    "    k = n - 2 * t\n",
    "    code_rate = round((k / n) * 100, 2)\n",
    "    block_correction = round((t / n) * 100, 2)\n",
    "    max_bits = n * k\n",
    "    return [m, n, k, t, code_rate, block_correction, max_bits]\n",
    "\n",
    "def rs_stat_test(solomon, poly_errors, parity_errors, is_decoding_success):\n",
    "    arr = []\n",
    "    \"\"\"\n",
    "\n",
    "    :type solomon: ReedSolomonCode\n",
    "    \"\"\"\n",
    "    correct_probes = 0\n",
    "    decoded_but_good = 0\n",
    "    count = 1000\n",
    "    i = 0\n",
    "    while i < count:\n",
    "        rand_message = ReedSolomonCode.generate_random_message(solomon.k, solomon.m)\n",
    "        if rand_message in arr:\n",
    "            continue\n",
    "        arr.append(rand_message)\n",
    "        message = ReedSolomonCode.array_to_binary(rand_message, solomon.m)\n",
    "        encoded_message = solomon.encode_number(message)\n",
    "        mesage_with_errors = solomon.add_errors_string(poly_errors, encoded_message, is_parity=False)\n",
    "        mesage_with_errors = solomon.add_errors_string(parity_errors, mesage_with_errors, is_parity=True)\n",
    "        try:\n",
    "            decoded_message = solomon.decode_number(mesage_with_errors)\n",
    "            if decoded_message == ReedSolomonCode.remove_leading_zeros(message):\n",
    "                correct_probes += 1\n",
    "            else:\n",
    "                decoded_but_good += 1\n",
    "            i += 1\n",
    "\n",
    "        except:\n",
    "            i += 1\n",
    "            continue\n",
    "    if is_decoding_success:\n",
    "        return (correct_probes / count) * 100\n",
    "    return (decoded_but_good / count) * 100\n",
    "\n",
    "pd.set_option('display.max_rows', None)\n"
   ]
  },
  {
   "cell_type": "code",
   "execution_count": 2,
   "metadata": {
    "ExecuteTime": {
     "end_time": "2023-06-05T19:45:19.645751100Z",
     "start_time": "2023-06-05T19:45:19.625926100Z"
    }
   },
   "outputs": [
    {
     "data": {
      "text/plain": "   m    n    k  t  Współczynnik wiadomości [%]  Zdolność korekcyjna [%]  \\\n0  4   15    9  3                        60.00                    20.00   \n1  8  255  239  8                        93.73                     3.14   \n\n   Maksymalna ilość bitów  \n0                     135  \n1                   60945  ",
      "text/html": "<div>\n<style scoped>\n    .dataframe tbody tr th:only-of-type {\n        vertical-align: middle;\n    }\n\n    .dataframe tbody tr th {\n        vertical-align: top;\n    }\n\n    .dataframe thead th {\n        text-align: right;\n    }\n</style>\n<table border=\"1\" class=\"dataframe\">\n  <thead>\n    <tr style=\"text-align: right;\">\n      <th></th>\n      <th>m</th>\n      <th>n</th>\n      <th>k</th>\n      <th>t</th>\n      <th>Współczynnik wiadomości [%]</th>\n      <th>Zdolność korekcyjna [%]</th>\n      <th>Maksymalna ilość bitów</th>\n    </tr>\n  </thead>\n  <tbody>\n    <tr>\n      <th>0</th>\n      <td>4</td>\n      <td>15</td>\n      <td>9</td>\n      <td>3</td>\n      <td>60.00</td>\n      <td>20.00</td>\n      <td>135</td>\n    </tr>\n    <tr>\n      <th>1</th>\n      <td>8</td>\n      <td>255</td>\n      <td>239</td>\n      <td>8</td>\n      <td>93.73</td>\n      <td>3.14</td>\n      <td>60945</td>\n    </tr>\n  </tbody>\n</table>\n</div>"
     },
     "execution_count": 2,
     "metadata": {},
     "output_type": "execute_result"
    }
   ],
   "source": [
    "data = np.array([rs_params_calc(4, 3), rs_params_calc(8, 8)])\n",
    "columns = [\"m\", \"n\", \"k\", \"t\", \"Współczynnik wiadomości [%]\", 'Zdolność korekcyjna [%]', 'Maksymalna ilość bitów']\n",
    "frame = pd.DataFrame(data=data, columns=columns)\n",
    "frame = frame.astype({'m':'int','n':'int', 'k':'int', 't':'int', 'Maksymalna ilość bitów':'int'})\n",
    "frame"
   ]
  },
  {
   "cell_type": "markdown",
   "metadata": {},
   "source": [
    "# Parametry\n",
    "### m - liczba bitów na jakich zapisany jest pojedyńczy symbol\n",
    "### n - liczba symboli w całym słowie\n",
    "### k - liczba symboli do zakodowania jako wiadomośc w słowie\n",
    "### t - liczba poprawialnych symboli\n",
    "### Współczynnik wiadomości - stosunek liczby symboli do zakodowania w słowie do liczby wszystich symboli w słowie\n",
    "### Zdolność korekcyjna - stosunek liczby poprawialnych symboli do liczby wszystkich symboli w słowie\n",
    "### Maksymalna ilość bitów - ile maksymalnie bitów może pomieścić jedna wiadmość"
   ]
  },
  {
   "cell_type": "code",
   "execution_count": 3,
   "metadata": {
    "ExecuteTime": {
     "end_time": "2023-06-05T19:45:42.818515700Z",
     "start_time": "2023-06-05T19:45:19.650904300Z"
    }
   },
   "outputs": [
    {
     "data": {
      "text/plain": "<IPython.core.display.HTML object>",
      "text/html": "<table border=\"1\" class=\"dataframe\">\n  <thead>\n    <tr style=\"text-align: right;\">\n      <th>błędy w części wiadomości</th>\n      <th>błędy w części korekcyjnej</th>\n      <th>sukces odkodowania wiadomosci [%]</th>\n      <th>porażka wykrycia błędu [%]</th>\n      <th>stopień zepsucia wiadomości [%]</th>\n    </tr>\n  </thead>\n  <tbody>\n    <tr>\n      <td>0</td>\n      <td>0</td>\n      <td>100.0</td>\n      <td>0.0</td>\n      <td>0.00</td>\n    </tr>\n    <tr>\n      <td>0</td>\n      <td>2</td>\n      <td>100.0</td>\n      <td>0.0</td>\n      <td>13.33</td>\n    </tr>\n    <tr>\n      <td>0</td>\n      <td>3</td>\n      <td>100.0</td>\n      <td>0.0</td>\n      <td>20.00</td>\n    </tr>\n    <tr>\n      <td>1</td>\n      <td>0</td>\n      <td>100.0</td>\n      <td>0.0</td>\n      <td>6.67</td>\n    </tr>\n    <tr>\n      <td>1</td>\n      <td>1</td>\n      <td>100.0</td>\n      <td>0.0</td>\n      <td>13.33</td>\n    </tr>\n    <tr>\n      <td>1</td>\n      <td>2</td>\n      <td>100.0</td>\n      <td>0.0</td>\n      <td>20.00</td>\n    </tr>\n    <tr>\n      <td>3</td>\n      <td>0</td>\n      <td>100.0</td>\n      <td>0.0</td>\n      <td>20.00</td>\n    </tr>\n    <tr>\n      <td>0</td>\n      <td>1</td>\n      <td>100.0</td>\n      <td>0.0</td>\n      <td>6.67</td>\n    </tr>\n    <tr>\n      <td>2</td>\n      <td>0</td>\n      <td>100.0</td>\n      <td>0.0</td>\n      <td>13.33</td>\n    </tr>\n    <tr>\n      <td>2</td>\n      <td>1</td>\n      <td>100.0</td>\n      <td>0.0</td>\n      <td>20.00</td>\n    </tr>\n    <tr>\n      <td>4</td>\n      <td>2</td>\n      <td>0.0</td>\n      <td>10.1</td>\n      <td>40.00</td>\n    </tr>\n    <tr>\n      <td>4</td>\n      <td>1</td>\n      <td>0.0</td>\n      <td>9.2</td>\n      <td>33.33</td>\n    </tr>\n    <tr>\n      <td>4</td>\n      <td>4</td>\n      <td>0.0</td>\n      <td>9.7</td>\n      <td>53.33</td>\n    </tr>\n    <tr>\n      <td>4</td>\n      <td>3</td>\n      <td>0.0</td>\n      <td>9.5</td>\n      <td>46.67</td>\n    </tr>\n    <tr>\n      <td>3</td>\n      <td>4</td>\n      <td>0.0</td>\n      <td>9.2</td>\n      <td>46.67</td>\n    </tr>\n    <tr>\n      <td>9</td>\n      <td>0</td>\n      <td>0.0</td>\n      <td>11.3</td>\n      <td>60.00</td>\n    </tr>\n    <tr>\n      <td>0</td>\n      <td>6</td>\n      <td>0.0</td>\n      <td>11.2</td>\n      <td>40.00</td>\n    </tr>\n    <tr>\n      <td>4</td>\n      <td>0</td>\n      <td>0.0</td>\n      <td>5.8</td>\n      <td>26.67</td>\n    </tr>\n    <tr>\n      <td>2</td>\n      <td>4</td>\n      <td>0.0</td>\n      <td>10.6</td>\n      <td>40.00</td>\n    </tr>\n    <tr>\n      <td>3</td>\n      <td>3</td>\n      <td>0.0</td>\n      <td>10.5</td>\n      <td>40.00</td>\n    </tr>\n    <tr>\n      <td>3</td>\n      <td>2</td>\n      <td>0.0</td>\n      <td>9.4</td>\n      <td>33.33</td>\n    </tr>\n    <tr>\n      <td>3</td>\n      <td>1</td>\n      <td>0.0</td>\n      <td>4.4</td>\n      <td>26.67</td>\n    </tr>\n    <tr>\n      <td>2</td>\n      <td>3</td>\n      <td>0.0</td>\n      <td>8.7</td>\n      <td>33.33</td>\n    </tr>\n    <tr>\n      <td>2</td>\n      <td>2</td>\n      <td>0.0</td>\n      <td>5.0</td>\n      <td>26.67</td>\n    </tr>\n    <tr>\n      <td>1</td>\n      <td>4</td>\n      <td>0.0</td>\n      <td>7.7</td>\n      <td>33.33</td>\n    </tr>\n    <tr>\n      <td>1</td>\n      <td>3</td>\n      <td>0.0</td>\n      <td>5.2</td>\n      <td>26.67</td>\n    </tr>\n    <tr>\n      <td>0</td>\n      <td>4</td>\n      <td>0.0</td>\n      <td>5.0</td>\n      <td>26.67</td>\n    </tr>\n    <tr>\n      <td>9</td>\n      <td>6</td>\n      <td>0.0</td>\n      <td>10.7</td>\n      <td>100.00</td>\n    </tr>\n  </tbody>\n</table>"
     },
     "metadata": {},
     "output_type": "display_data"
    }
   ],
   "source": [
    "solomon = ReedSolomonCode(4, 3)\n",
    "arr = []\n",
    "T_COLS = ['błędy w części wiadomości', 'błędy w części korekcyjnej', 'sukces odkodowania wiadomosci [%]', 'porażka wykrycia błędu [%]', 'stopień zepsucia wiadomości [%]']\n",
    "for i in range(5):\n",
    "    for j in range(5):\n",
    "        arr.append([i, j, rs_stat_test(solomon, i, j, True), rs_stat_test(solomon, i, j, False), round(((i + j) / 15) * 100, 2)])\n",
    "\n",
    "arr.append([9, 0, rs_stat_test(solomon, 9, 0, True), rs_stat_test(solomon, 9, 0, False), round((9 / 15) * 100, 2)])\n",
    "arr.append([0, 6, rs_stat_test(solomon, 0, 6, True), rs_stat_test(solomon, 0, 6, False), round((6 / 15) * 100, 2)])\n",
    "arr.append([9, 6, rs_stat_test(solomon, 9, 6, True), rs_stat_test(solomon, 9, 6, False), round((15 / 15) * 100, 2)])\n",
    "\n",
    "frame = pd.DataFrame(data=arr, columns=T_COLS)\n",
    "frame.sort_values(by=['sukces odkodowania wiadomosci [%]'], inplace=True, ascending=False)\n",
    "display(HTML(frame.to_html(index=False)))\n"
   ]
  },
  {
   "cell_type": "markdown",
   "source": [
    "# Wyniki dla 8 bitowego dekodera"
   ],
   "metadata": {
    "collapsed": false
   }
  },
  {
   "cell_type": "code",
   "execution_count": 8,
   "outputs": [
    {
     "data": {
      "text/plain": "    błędy w części wiadomości  błędy w części korekcyjnej  \\\n0                           0                           0   \n1                           0                           1   \n2                           0                           2   \n3                           0                           3   \n4                           0                           4   \n5                           0                           5   \n6                           0                           6   \n7                           0                           7   \n8                           0                           8   \n9                           1                           0   \n10                          1                           1   \n11                          1                           2   \n12                          1                           3   \n13                          1                           4   \n14                          1                           5   \n15                          1                           6   \n16                          1                           7   \n17                          2                           0   \n18                          2                           1   \n19                          2                           2   \n20                          2                           3   \n21                          2                           4   \n22                          2                           5   \n23                          2                           6   \n24                          3                           0   \n25                          3                           1   \n26                          3                           2   \n27                          3                           3   \n28                          3                           4   \n29                          3                           5   \n30                          4                           0   \n31                          4                           1   \n32                          4                           2   \n33                          4                           3   \n34                          4                           4   \n35                          5                           0   \n36                          5                           1   \n37                          5                           2   \n38                          5                           3   \n39                          6                           0   \n40                          6                           1   \n41                          6                           2   \n42                          7                           0   \n43                          7                           1   \n44                          8                           0   \n45                         41                           9   \n46                         18                          15   \n47                         23                           9   \n48                         21                          16   \n49                         80                          12   \n50                        187                           9   \n51                        212                          12   \n52                         45                           9   \n53                        120                          11   \n54                        175                           9   \n55                         19                          15   \n56                        168                           9   \n57                          9                          16   \n58                         47                          11   \n59                         13                           9   \n60                         14                          12   \n61                        152                          11   \n62                        184                          11   \n63                         47                          15   \n64                        217                          14   \n65                        236                           9   \n66                        111                          13   \n67                         59                          16   \n68                         38                          16   \n69                         52                          10   \n70                        191                          10   \n71                        194                           9   \n72                         30                           9   \n73                        158                          15   \n74                        171                          16   \n\n    sukces odkodowania wiadomosci [%]  porażka wykrycia błędu [%]  \\\n0                               100.0                         0.0   \n1                               100.0                         0.0   \n2                               100.0                         0.0   \n3                               100.0                         0.0   \n4                               100.0                         0.0   \n5                               100.0                         0.0   \n6                               100.0                         0.0   \n7                               100.0                         0.0   \n8                               100.0                         0.0   \n9                               100.0                         0.0   \n10                              100.0                         0.0   \n11                              100.0                         0.0   \n12                              100.0                         0.0   \n13                              100.0                         0.0   \n14                              100.0                         0.0   \n15                              100.0                         0.0   \n16                              100.0                         0.0   \n17                              100.0                         0.0   \n18                              100.0                         0.0   \n19                              100.0                         0.0   \n20                              100.0                         0.0   \n21                              100.0                         0.0   \n22                              100.0                         0.0   \n23                              100.0                         0.0   \n24                              100.0                         0.0   \n25                              100.0                         0.0   \n26                              100.0                         0.0   \n27                              100.0                         0.0   \n28                              100.0                         0.0   \n29                              100.0                         0.0   \n30                              100.0                         0.0   \n31                              100.0                         0.0   \n32                              100.0                         0.0   \n33                              100.0                         0.0   \n34                              100.0                         0.0   \n35                              100.0                         0.0   \n36                              100.0                         0.0   \n37                              100.0                         0.0   \n38                              100.0                         0.0   \n39                              100.0                         0.0   \n40                              100.0                         0.0   \n41                              100.0                         0.0   \n42                              100.0                         0.0   \n43                              100.0                         0.0   \n44                              100.0                         0.0   \n45                                0.0                         0.0   \n46                                0.0                         0.0   \n47                                0.0                         0.0   \n48                                0.0                         0.0   \n49                                0.0                         0.0   \n50                                0.0                         0.0   \n51                                0.0                         0.0   \n52                                0.0                         0.0   \n53                                0.0                         0.0   \n54                                0.0                         0.0   \n55                                0.0                         0.0   \n56                                0.0                         0.0   \n57                                0.0                         0.0   \n58                                0.0                         0.0   \n59                                0.0                         0.0   \n60                                0.0                         0.0   \n61                                0.0                         0.0   \n62                                0.0                         0.0   \n63                                0.0                         0.0   \n64                                0.0                         0.0   \n65                                0.0                         0.0   \n66                                0.0                         0.0   \n67                                0.0                         0.0   \n68                                0.0                         0.0   \n69                                0.0                         0.0   \n70                                0.0                         0.0   \n71                                0.0                         0.0   \n72                                0.0                         0.0   \n73                                0.0                         0.0   \n74                                0.0                         0.0   \n\n    stopień zepsucia wiadomości [%]  \n0                              0.00  \n1                              0.39  \n2                              0.78  \n3                              1.18  \n4                              1.57  \n5                              1.96  \n6                              2.35  \n7                              2.75  \n8                              3.14  \n9                              0.39  \n10                             0.78  \n11                             1.18  \n12                             1.57  \n13                             1.96  \n14                             2.35  \n15                             2.75  \n16                             3.14  \n17                             0.78  \n18                             1.18  \n19                             1.57  \n20                             1.96  \n21                             2.35  \n22                             2.75  \n23                             3.14  \n24                             1.18  \n25                             1.57  \n26                             1.96  \n27                             2.35  \n28                             2.75  \n29                             3.14  \n30                             1.57  \n31                             1.96  \n32                             2.35  \n33                             2.75  \n34                             3.14  \n35                             1.96  \n36                             2.35  \n37                             2.75  \n38                             3.14  \n39                             2.35  \n40                             2.75  \n41                             3.14  \n42                             2.75  \n43                             3.14  \n44                             3.14  \n45                            19.61  \n46                            12.94  \n47                            12.55  \n48                            14.51  \n49                            36.08  \n50                            76.86  \n51                            87.84  \n52                            21.18  \n53                            51.37  \n54                            72.16  \n55                            13.33  \n56                            69.41  \n57                             9.80  \n58                            22.75  \n59                             8.63  \n60                            10.20  \n61                            63.92  \n62                            76.47  \n63                            24.31  \n64                            90.59  \n65                            96.08  \n66                            48.63  \n67                            29.41  \n68                            21.18  \n69                            24.31  \n70                            78.82  \n71                            79.61  \n72                            15.29  \n73                            67.84  \n74                            73.33  ",
      "text/html": "<div>\n<style scoped>\n    .dataframe tbody tr th:only-of-type {\n        vertical-align: middle;\n    }\n\n    .dataframe tbody tr th {\n        vertical-align: top;\n    }\n\n    .dataframe thead th {\n        text-align: right;\n    }\n</style>\n<table border=\"1\" class=\"dataframe\">\n  <thead>\n    <tr style=\"text-align: right;\">\n      <th></th>\n      <th>błędy w części wiadomości</th>\n      <th>błędy w części korekcyjnej</th>\n      <th>sukces odkodowania wiadomosci [%]</th>\n      <th>porażka wykrycia błędu [%]</th>\n      <th>stopień zepsucia wiadomości [%]</th>\n    </tr>\n  </thead>\n  <tbody>\n    <tr>\n      <th>0</th>\n      <td>0</td>\n      <td>0</td>\n      <td>100.0</td>\n      <td>0.0</td>\n      <td>0.00</td>\n    </tr>\n    <tr>\n      <th>1</th>\n      <td>0</td>\n      <td>1</td>\n      <td>100.0</td>\n      <td>0.0</td>\n      <td>0.39</td>\n    </tr>\n    <tr>\n      <th>2</th>\n      <td>0</td>\n      <td>2</td>\n      <td>100.0</td>\n      <td>0.0</td>\n      <td>0.78</td>\n    </tr>\n    <tr>\n      <th>3</th>\n      <td>0</td>\n      <td>3</td>\n      <td>100.0</td>\n      <td>0.0</td>\n      <td>1.18</td>\n    </tr>\n    <tr>\n      <th>4</th>\n      <td>0</td>\n      <td>4</td>\n      <td>100.0</td>\n      <td>0.0</td>\n      <td>1.57</td>\n    </tr>\n    <tr>\n      <th>5</th>\n      <td>0</td>\n      <td>5</td>\n      <td>100.0</td>\n      <td>0.0</td>\n      <td>1.96</td>\n    </tr>\n    <tr>\n      <th>6</th>\n      <td>0</td>\n      <td>6</td>\n      <td>100.0</td>\n      <td>0.0</td>\n      <td>2.35</td>\n    </tr>\n    <tr>\n      <th>7</th>\n      <td>0</td>\n      <td>7</td>\n      <td>100.0</td>\n      <td>0.0</td>\n      <td>2.75</td>\n    </tr>\n    <tr>\n      <th>8</th>\n      <td>0</td>\n      <td>8</td>\n      <td>100.0</td>\n      <td>0.0</td>\n      <td>3.14</td>\n    </tr>\n    <tr>\n      <th>9</th>\n      <td>1</td>\n      <td>0</td>\n      <td>100.0</td>\n      <td>0.0</td>\n      <td>0.39</td>\n    </tr>\n    <tr>\n      <th>10</th>\n      <td>1</td>\n      <td>1</td>\n      <td>100.0</td>\n      <td>0.0</td>\n      <td>0.78</td>\n    </tr>\n    <tr>\n      <th>11</th>\n      <td>1</td>\n      <td>2</td>\n      <td>100.0</td>\n      <td>0.0</td>\n      <td>1.18</td>\n    </tr>\n    <tr>\n      <th>12</th>\n      <td>1</td>\n      <td>3</td>\n      <td>100.0</td>\n      <td>0.0</td>\n      <td>1.57</td>\n    </tr>\n    <tr>\n      <th>13</th>\n      <td>1</td>\n      <td>4</td>\n      <td>100.0</td>\n      <td>0.0</td>\n      <td>1.96</td>\n    </tr>\n    <tr>\n      <th>14</th>\n      <td>1</td>\n      <td>5</td>\n      <td>100.0</td>\n      <td>0.0</td>\n      <td>2.35</td>\n    </tr>\n    <tr>\n      <th>15</th>\n      <td>1</td>\n      <td>6</td>\n      <td>100.0</td>\n      <td>0.0</td>\n      <td>2.75</td>\n    </tr>\n    <tr>\n      <th>16</th>\n      <td>1</td>\n      <td>7</td>\n      <td>100.0</td>\n      <td>0.0</td>\n      <td>3.14</td>\n    </tr>\n    <tr>\n      <th>17</th>\n      <td>2</td>\n      <td>0</td>\n      <td>100.0</td>\n      <td>0.0</td>\n      <td>0.78</td>\n    </tr>\n    <tr>\n      <th>18</th>\n      <td>2</td>\n      <td>1</td>\n      <td>100.0</td>\n      <td>0.0</td>\n      <td>1.18</td>\n    </tr>\n    <tr>\n      <th>19</th>\n      <td>2</td>\n      <td>2</td>\n      <td>100.0</td>\n      <td>0.0</td>\n      <td>1.57</td>\n    </tr>\n    <tr>\n      <th>20</th>\n      <td>2</td>\n      <td>3</td>\n      <td>100.0</td>\n      <td>0.0</td>\n      <td>1.96</td>\n    </tr>\n    <tr>\n      <th>21</th>\n      <td>2</td>\n      <td>4</td>\n      <td>100.0</td>\n      <td>0.0</td>\n      <td>2.35</td>\n    </tr>\n    <tr>\n      <th>22</th>\n      <td>2</td>\n      <td>5</td>\n      <td>100.0</td>\n      <td>0.0</td>\n      <td>2.75</td>\n    </tr>\n    <tr>\n      <th>23</th>\n      <td>2</td>\n      <td>6</td>\n      <td>100.0</td>\n      <td>0.0</td>\n      <td>3.14</td>\n    </tr>\n    <tr>\n      <th>24</th>\n      <td>3</td>\n      <td>0</td>\n      <td>100.0</td>\n      <td>0.0</td>\n      <td>1.18</td>\n    </tr>\n    <tr>\n      <th>25</th>\n      <td>3</td>\n      <td>1</td>\n      <td>100.0</td>\n      <td>0.0</td>\n      <td>1.57</td>\n    </tr>\n    <tr>\n      <th>26</th>\n      <td>3</td>\n      <td>2</td>\n      <td>100.0</td>\n      <td>0.0</td>\n      <td>1.96</td>\n    </tr>\n    <tr>\n      <th>27</th>\n      <td>3</td>\n      <td>3</td>\n      <td>100.0</td>\n      <td>0.0</td>\n      <td>2.35</td>\n    </tr>\n    <tr>\n      <th>28</th>\n      <td>3</td>\n      <td>4</td>\n      <td>100.0</td>\n      <td>0.0</td>\n      <td>2.75</td>\n    </tr>\n    <tr>\n      <th>29</th>\n      <td>3</td>\n      <td>5</td>\n      <td>100.0</td>\n      <td>0.0</td>\n      <td>3.14</td>\n    </tr>\n    <tr>\n      <th>30</th>\n      <td>4</td>\n      <td>0</td>\n      <td>100.0</td>\n      <td>0.0</td>\n      <td>1.57</td>\n    </tr>\n    <tr>\n      <th>31</th>\n      <td>4</td>\n      <td>1</td>\n      <td>100.0</td>\n      <td>0.0</td>\n      <td>1.96</td>\n    </tr>\n    <tr>\n      <th>32</th>\n      <td>4</td>\n      <td>2</td>\n      <td>100.0</td>\n      <td>0.0</td>\n      <td>2.35</td>\n    </tr>\n    <tr>\n      <th>33</th>\n      <td>4</td>\n      <td>3</td>\n      <td>100.0</td>\n      <td>0.0</td>\n      <td>2.75</td>\n    </tr>\n    <tr>\n      <th>34</th>\n      <td>4</td>\n      <td>4</td>\n      <td>100.0</td>\n      <td>0.0</td>\n      <td>3.14</td>\n    </tr>\n    <tr>\n      <th>35</th>\n      <td>5</td>\n      <td>0</td>\n      <td>100.0</td>\n      <td>0.0</td>\n      <td>1.96</td>\n    </tr>\n    <tr>\n      <th>36</th>\n      <td>5</td>\n      <td>1</td>\n      <td>100.0</td>\n      <td>0.0</td>\n      <td>2.35</td>\n    </tr>\n    <tr>\n      <th>37</th>\n      <td>5</td>\n      <td>2</td>\n      <td>100.0</td>\n      <td>0.0</td>\n      <td>2.75</td>\n    </tr>\n    <tr>\n      <th>38</th>\n      <td>5</td>\n      <td>3</td>\n      <td>100.0</td>\n      <td>0.0</td>\n      <td>3.14</td>\n    </tr>\n    <tr>\n      <th>39</th>\n      <td>6</td>\n      <td>0</td>\n      <td>100.0</td>\n      <td>0.0</td>\n      <td>2.35</td>\n    </tr>\n    <tr>\n      <th>40</th>\n      <td>6</td>\n      <td>1</td>\n      <td>100.0</td>\n      <td>0.0</td>\n      <td>2.75</td>\n    </tr>\n    <tr>\n      <th>41</th>\n      <td>6</td>\n      <td>2</td>\n      <td>100.0</td>\n      <td>0.0</td>\n      <td>3.14</td>\n    </tr>\n    <tr>\n      <th>42</th>\n      <td>7</td>\n      <td>0</td>\n      <td>100.0</td>\n      <td>0.0</td>\n      <td>2.75</td>\n    </tr>\n    <tr>\n      <th>43</th>\n      <td>7</td>\n      <td>1</td>\n      <td>100.0</td>\n      <td>0.0</td>\n      <td>3.14</td>\n    </tr>\n    <tr>\n      <th>44</th>\n      <td>8</td>\n      <td>0</td>\n      <td>100.0</td>\n      <td>0.0</td>\n      <td>3.14</td>\n    </tr>\n    <tr>\n      <th>45</th>\n      <td>41</td>\n      <td>9</td>\n      <td>0.0</td>\n      <td>0.0</td>\n      <td>19.61</td>\n    </tr>\n    <tr>\n      <th>46</th>\n      <td>18</td>\n      <td>15</td>\n      <td>0.0</td>\n      <td>0.0</td>\n      <td>12.94</td>\n    </tr>\n    <tr>\n      <th>47</th>\n      <td>23</td>\n      <td>9</td>\n      <td>0.0</td>\n      <td>0.0</td>\n      <td>12.55</td>\n    </tr>\n    <tr>\n      <th>48</th>\n      <td>21</td>\n      <td>16</td>\n      <td>0.0</td>\n      <td>0.0</td>\n      <td>14.51</td>\n    </tr>\n    <tr>\n      <th>49</th>\n      <td>80</td>\n      <td>12</td>\n      <td>0.0</td>\n      <td>0.0</td>\n      <td>36.08</td>\n    </tr>\n    <tr>\n      <th>50</th>\n      <td>187</td>\n      <td>9</td>\n      <td>0.0</td>\n      <td>0.0</td>\n      <td>76.86</td>\n    </tr>\n    <tr>\n      <th>51</th>\n      <td>212</td>\n      <td>12</td>\n      <td>0.0</td>\n      <td>0.0</td>\n      <td>87.84</td>\n    </tr>\n    <tr>\n      <th>52</th>\n      <td>45</td>\n      <td>9</td>\n      <td>0.0</td>\n      <td>0.0</td>\n      <td>21.18</td>\n    </tr>\n    <tr>\n      <th>53</th>\n      <td>120</td>\n      <td>11</td>\n      <td>0.0</td>\n      <td>0.0</td>\n      <td>51.37</td>\n    </tr>\n    <tr>\n      <th>54</th>\n      <td>175</td>\n      <td>9</td>\n      <td>0.0</td>\n      <td>0.0</td>\n      <td>72.16</td>\n    </tr>\n    <tr>\n      <th>55</th>\n      <td>19</td>\n      <td>15</td>\n      <td>0.0</td>\n      <td>0.0</td>\n      <td>13.33</td>\n    </tr>\n    <tr>\n      <th>56</th>\n      <td>168</td>\n      <td>9</td>\n      <td>0.0</td>\n      <td>0.0</td>\n      <td>69.41</td>\n    </tr>\n    <tr>\n      <th>57</th>\n      <td>9</td>\n      <td>16</td>\n      <td>0.0</td>\n      <td>0.0</td>\n      <td>9.80</td>\n    </tr>\n    <tr>\n      <th>58</th>\n      <td>47</td>\n      <td>11</td>\n      <td>0.0</td>\n      <td>0.0</td>\n      <td>22.75</td>\n    </tr>\n    <tr>\n      <th>59</th>\n      <td>13</td>\n      <td>9</td>\n      <td>0.0</td>\n      <td>0.0</td>\n      <td>8.63</td>\n    </tr>\n    <tr>\n      <th>60</th>\n      <td>14</td>\n      <td>12</td>\n      <td>0.0</td>\n      <td>0.0</td>\n      <td>10.20</td>\n    </tr>\n    <tr>\n      <th>61</th>\n      <td>152</td>\n      <td>11</td>\n      <td>0.0</td>\n      <td>0.0</td>\n      <td>63.92</td>\n    </tr>\n    <tr>\n      <th>62</th>\n      <td>184</td>\n      <td>11</td>\n      <td>0.0</td>\n      <td>0.0</td>\n      <td>76.47</td>\n    </tr>\n    <tr>\n      <th>63</th>\n      <td>47</td>\n      <td>15</td>\n      <td>0.0</td>\n      <td>0.0</td>\n      <td>24.31</td>\n    </tr>\n    <tr>\n      <th>64</th>\n      <td>217</td>\n      <td>14</td>\n      <td>0.0</td>\n      <td>0.0</td>\n      <td>90.59</td>\n    </tr>\n    <tr>\n      <th>65</th>\n      <td>236</td>\n      <td>9</td>\n      <td>0.0</td>\n      <td>0.0</td>\n      <td>96.08</td>\n    </tr>\n    <tr>\n      <th>66</th>\n      <td>111</td>\n      <td>13</td>\n      <td>0.0</td>\n      <td>0.0</td>\n      <td>48.63</td>\n    </tr>\n    <tr>\n      <th>67</th>\n      <td>59</td>\n      <td>16</td>\n      <td>0.0</td>\n      <td>0.0</td>\n      <td>29.41</td>\n    </tr>\n    <tr>\n      <th>68</th>\n      <td>38</td>\n      <td>16</td>\n      <td>0.0</td>\n      <td>0.0</td>\n      <td>21.18</td>\n    </tr>\n    <tr>\n      <th>69</th>\n      <td>52</td>\n      <td>10</td>\n      <td>0.0</td>\n      <td>0.0</td>\n      <td>24.31</td>\n    </tr>\n    <tr>\n      <th>70</th>\n      <td>191</td>\n      <td>10</td>\n      <td>0.0</td>\n      <td>0.0</td>\n      <td>78.82</td>\n    </tr>\n    <tr>\n      <th>71</th>\n      <td>194</td>\n      <td>9</td>\n      <td>0.0</td>\n      <td>0.0</td>\n      <td>79.61</td>\n    </tr>\n    <tr>\n      <th>72</th>\n      <td>30</td>\n      <td>9</td>\n      <td>0.0</td>\n      <td>0.0</td>\n      <td>15.29</td>\n    </tr>\n    <tr>\n      <th>73</th>\n      <td>158</td>\n      <td>15</td>\n      <td>0.0</td>\n      <td>0.0</td>\n      <td>67.84</td>\n    </tr>\n    <tr>\n      <th>74</th>\n      <td>171</td>\n      <td>16</td>\n      <td>0.0</td>\n      <td>0.0</td>\n      <td>73.33</td>\n    </tr>\n  </tbody>\n</table>\n</div>"
     },
     "execution_count": 8,
     "metadata": {},
     "output_type": "execute_result"
    }
   ],
   "source": [
    "# f1 = pd.read_csv('csv/results.csv', delimiter=';')\n",
    "# f1 = f1.drop('ind', axis=1)\n",
    "\n",
    "f2 = pd.read_csv('csv/results2.csv', delimiter=';')\n",
    "f2 = f2.drop('ind', axis=1)\n",
    "\n",
    "rs_8 = pd.concat([f2], axis=0)\n",
    "rs_8.columns = ['błędy w części wiadomości', 'błędy w części korekcyjnej', 'sukces odkodowania wiadomosci [%]', 'porażka wykrycia błędu [%]', 'stopień zepsucia wiadomości [%]']\n",
    "rs_8"
   ],
   "metadata": {
    "collapsed": false,
    "ExecuteTime": {
     "end_time": "2023-06-05T20:52:11.527554200Z",
     "start_time": "2023-06-05T20:52:11.495934Z"
    }
   }
  },
  {
   "cell_type": "markdown",
   "source": [
    "# Wyniki dekodowania dla algorytmu Mochnackiego"
   ],
   "metadata": {
    "collapsed": false
   }
  },
  {
   "cell_type": "code",
   "execution_count": 6,
   "outputs": [
    {
     "data": {
      "text/plain": "    błędy w wiadomości  błędy w części kontrolnej  sukces dekodowania [%]  \\\n0                    0                          0                   100.0   \n1                    0                          1                   100.0   \n2                    0                          2                   100.0   \n3                    0                          3                   100.0   \n4                    0                          4                     0.0   \n5                    1                          0                   100.0   \n6                    1                          1                    57.4   \n7                    1                          2                    29.3   \n8                    1                          3                     0.0   \n9                    1                          4                     0.0   \n10                   2                          0                    83.2   \n11                   2                          1                    18.1   \n12                   2                          2                     0.0   \n13                   2                          3                     0.0   \n14                   2                          4                     0.0   \n15                   3                          0                    58.4   \n16                   3                          1                     0.0   \n17                   3                          2                     0.0   \n18                   3                          3                     0.0   \n19                   3                          4                     0.0   \n20                   4                          0                     0.0   \n21                   4                          1                     0.0   \n22                   4                          2                     0.0   \n23                   4                          3                     0.0   \n24                   4                          4                     0.0   \n\n    stopień zepsucia wiadomości [%]  \n0                              0.00  \n1                              6.67  \n2                             13.33  \n3                             20.00  \n4                             26.67  \n5                              6.67  \n6                             13.33  \n7                             20.00  \n8                             26.67  \n9                             33.33  \n10                            13.33  \n11                            20.00  \n12                            26.67  \n13                            33.33  \n14                            40.00  \n15                            20.00  \n16                            26.67  \n17                            33.33  \n18                            40.00  \n19                            46.67  \n20                            26.67  \n21                            33.33  \n22                            40.00  \n23                            46.67  \n24                            53.33  ",
      "text/html": "<div>\n<style scoped>\n    .dataframe tbody tr th:only-of-type {\n        vertical-align: middle;\n    }\n\n    .dataframe tbody tr th {\n        vertical-align: top;\n    }\n\n    .dataframe thead th {\n        text-align: right;\n    }\n</style>\n<table border=\"1\" class=\"dataframe\">\n  <thead>\n    <tr style=\"text-align: right;\">\n      <th></th>\n      <th>błędy w wiadomości</th>\n      <th>błędy w części kontrolnej</th>\n      <th>sukces dekodowania [%]</th>\n      <th>stopień zepsucia wiadomości [%]</th>\n    </tr>\n  </thead>\n  <tbody>\n    <tr>\n      <th>0</th>\n      <td>0</td>\n      <td>0</td>\n      <td>100.0</td>\n      <td>0.00</td>\n    </tr>\n    <tr>\n      <th>1</th>\n      <td>0</td>\n      <td>1</td>\n      <td>100.0</td>\n      <td>6.67</td>\n    </tr>\n    <tr>\n      <th>2</th>\n      <td>0</td>\n      <td>2</td>\n      <td>100.0</td>\n      <td>13.33</td>\n    </tr>\n    <tr>\n      <th>3</th>\n      <td>0</td>\n      <td>3</td>\n      <td>100.0</td>\n      <td>20.00</td>\n    </tr>\n    <tr>\n      <th>4</th>\n      <td>0</td>\n      <td>4</td>\n      <td>0.0</td>\n      <td>26.67</td>\n    </tr>\n    <tr>\n      <th>5</th>\n      <td>1</td>\n      <td>0</td>\n      <td>100.0</td>\n      <td>6.67</td>\n    </tr>\n    <tr>\n      <th>6</th>\n      <td>1</td>\n      <td>1</td>\n      <td>57.4</td>\n      <td>13.33</td>\n    </tr>\n    <tr>\n      <th>7</th>\n      <td>1</td>\n      <td>2</td>\n      <td>29.3</td>\n      <td>20.00</td>\n    </tr>\n    <tr>\n      <th>8</th>\n      <td>1</td>\n      <td>3</td>\n      <td>0.0</td>\n      <td>26.67</td>\n    </tr>\n    <tr>\n      <th>9</th>\n      <td>1</td>\n      <td>4</td>\n      <td>0.0</td>\n      <td>33.33</td>\n    </tr>\n    <tr>\n      <th>10</th>\n      <td>2</td>\n      <td>0</td>\n      <td>83.2</td>\n      <td>13.33</td>\n    </tr>\n    <tr>\n      <th>11</th>\n      <td>2</td>\n      <td>1</td>\n      <td>18.1</td>\n      <td>20.00</td>\n    </tr>\n    <tr>\n      <th>12</th>\n      <td>2</td>\n      <td>2</td>\n      <td>0.0</td>\n      <td>26.67</td>\n    </tr>\n    <tr>\n      <th>13</th>\n      <td>2</td>\n      <td>3</td>\n      <td>0.0</td>\n      <td>33.33</td>\n    </tr>\n    <tr>\n      <th>14</th>\n      <td>2</td>\n      <td>4</td>\n      <td>0.0</td>\n      <td>40.00</td>\n    </tr>\n    <tr>\n      <th>15</th>\n      <td>3</td>\n      <td>0</td>\n      <td>58.4</td>\n      <td>20.00</td>\n    </tr>\n    <tr>\n      <th>16</th>\n      <td>3</td>\n      <td>1</td>\n      <td>0.0</td>\n      <td>26.67</td>\n    </tr>\n    <tr>\n      <th>17</th>\n      <td>3</td>\n      <td>2</td>\n      <td>0.0</td>\n      <td>33.33</td>\n    </tr>\n    <tr>\n      <th>18</th>\n      <td>3</td>\n      <td>3</td>\n      <td>0.0</td>\n      <td>40.00</td>\n    </tr>\n    <tr>\n      <th>19</th>\n      <td>3</td>\n      <td>4</td>\n      <td>0.0</td>\n      <td>46.67</td>\n    </tr>\n    <tr>\n      <th>20</th>\n      <td>4</td>\n      <td>0</td>\n      <td>0.0</td>\n      <td>26.67</td>\n    </tr>\n    <tr>\n      <th>21</th>\n      <td>4</td>\n      <td>1</td>\n      <td>0.0</td>\n      <td>33.33</td>\n    </tr>\n    <tr>\n      <th>22</th>\n      <td>4</td>\n      <td>2</td>\n      <td>0.0</td>\n      <td>40.00</td>\n    </tr>\n    <tr>\n      <th>23</th>\n      <td>4</td>\n      <td>3</td>\n      <td>0.0</td>\n      <td>46.67</td>\n    </tr>\n    <tr>\n      <th>24</th>\n      <td>4</td>\n      <td>4</td>\n      <td>0.0</td>\n      <td>53.33</td>\n    </tr>\n  </tbody>\n</table>\n</div>"
     },
     "metadata": {},
     "output_type": "display_data"
    }
   ],
   "source": [
    "moch = pd.read_csv('csv/mochnacki.csv', delimiter=';')\n",
    "moch = moch.drop('ind', axis=1)\n",
    "display(moch)"
   ],
   "metadata": {
    "collapsed": false,
    "ExecuteTime": {
     "end_time": "2023-06-05T19:46:14.813988700Z",
     "start_time": "2023-06-05T19:46:14.801872Z"
    }
   }
  },
  {
   "cell_type": "code",
   "execution_count": null,
   "outputs": [],
   "source": [],
   "metadata": {
    "collapsed": false
   }
  }
 ],
 "metadata": {
  "kernelspec": {
   "display_name": "Python 3 (ipykernel)",
   "language": "python",
   "name": "python3"
  },
  "language_info": {
   "codemirror_mode": {
    "name": "ipython",
    "version": 3
   },
   "file_extension": ".py",
   "mimetype": "text/x-python",
   "name": "python",
   "nbconvert_exporter": "python",
   "pygments_lexer": "ipython3",
   "version": "3.10.6"
  }
 },
 "nbformat": 4,
 "nbformat_minor": 1
}
