{
 "cells": [
  {
   "cell_type": "code",
   "execution_count": 37,
   "metadata": {
    "collapsed": true,
    "ExecuteTime": {
     "end_time": "2023-05-11T09:55:04.052855726Z",
     "start_time": "2023-05-11T09:55:04.017376652Z"
    }
   },
   "outputs": [],
   "source": [
    "import numpy as np\n",
    "import pandas as pd\n",
    "from IPython.display import display, HTML\n",
    "from reed_solomon_code.ReedSolomonCode import ReedSolomonCode\n",
    "\n",
    "def rs_params_calc(m, t):\n",
    "    n = pow(2, m) - 1\n",
    "    k = n - 2 * t\n",
    "    code_rate = round((k / n) * 100, 2)\n",
    "    block_correction = round((t / n) * 100, 2)\n",
    "    max_bits = n * k\n",
    "    return [m, n, k, t, code_rate, block_correction, max_bits]\n",
    "\n",
    "def rs_stat_test(solomon, poly_errors, parity_errors, is_decoding_success):\n",
    "    \"\"\"\n",
    "\n",
    "    :type solomon: ReedSolomonCode\n",
    "    \"\"\"\n",
    "    correct_probes = 0\n",
    "    decoded_but_good = 0\n",
    "    count = 1000\n",
    "    for i in range(count):\n",
    "        rand_message = ReedSolomonCode.generate_random_message(solomon.k, solomon.m)\n",
    "        message = ReedSolomonCode.array_to_binary(rand_message, solomon.m)\n",
    "        encoded_message = solomon.encode_number(message)\n",
    "        mesage_with_errors = solomon.add_errors_string(poly_errors, encoded_message, is_parity=False)\n",
    "        mesage_with_errors = solomon.add_errors_string(parity_errors, mesage_with_errors, is_parity=True)\n",
    "        try:\n",
    "            decoded_message = solomon.decode_number(mesage_with_errors)\n",
    "            if decoded_message == ReedSolomonCode.remove_leading_zeros(message):\n",
    "                correct_probes += 1\n",
    "            else:\n",
    "                decoded_but_good += 1\n",
    "\n",
    "        except:\n",
    "            continue\n",
    "    if is_decoding_success:\n",
    "        return (correct_probes / count) * 100\n",
    "    return (decoded_but_good / count) * 100\n"
   ]
  },
  {
   "cell_type": "code",
   "execution_count": 38,
   "metadata": {
    "ExecuteTime": {
     "end_time": "2023-05-11T09:55:04.054404802Z",
     "start_time": "2023-05-11T09:55:04.028052096Z"
    }
   },
   "outputs": [
    {
     "data": {
      "text/plain": "   m    n    k  t  Współczynnik wiadomości [%]  Zdolność korekcyjna [%]   \n0  4   15   11  2                        73.33                    13.33  \\\n1  8  255  239  8                        93.73                     3.14   \n\n   Maksymalna ilość bitów  \n0                     165  \n1                   60945  ",
      "text/html": "<div>\n<style scoped>\n    .dataframe tbody tr th:only-of-type {\n        vertical-align: middle;\n    }\n\n    .dataframe tbody tr th {\n        vertical-align: top;\n    }\n\n    .dataframe thead th {\n        text-align: right;\n    }\n</style>\n<table border=\"1\" class=\"dataframe\">\n  <thead>\n    <tr style=\"text-align: right;\">\n      <th></th>\n      <th>m</th>\n      <th>n</th>\n      <th>k</th>\n      <th>t</th>\n      <th>Współczynnik wiadomości [%]</th>\n      <th>Zdolność korekcyjna [%]</th>\n      <th>Maksymalna ilość bitów</th>\n    </tr>\n  </thead>\n  <tbody>\n    <tr>\n      <th>0</th>\n      <td>4</td>\n      <td>15</td>\n      <td>11</td>\n      <td>2</td>\n      <td>73.33</td>\n      <td>13.33</td>\n      <td>165</td>\n    </tr>\n    <tr>\n      <th>1</th>\n      <td>8</td>\n      <td>255</td>\n      <td>239</td>\n      <td>8</td>\n      <td>93.73</td>\n      <td>3.14</td>\n      <td>60945</td>\n    </tr>\n  </tbody>\n</table>\n</div>"
     },
     "execution_count": 38,
     "metadata": {},
     "output_type": "execute_result"
    }
   ],
   "source": [
    "data = np.array([rs_params_calc(4, 2), rs_params_calc(8, 8)])\n",
    "columns = [\"m\", \"n\", \"k\", \"t\", \"Współczynnik wiadomości [%]\", 'Zdolność korekcyjna [%]', 'Maksymalna ilość bitów']\n",
    "frame = pd.DataFrame(data=data, columns=columns)\n",
    "frame = frame.astype({'m':'int','n':'int', 'k':'int', 't':'int', 'Maksymalna ilość bitów':'int'})\n",
    "frame"
   ]
  },
  {
   "cell_type": "markdown",
   "metadata": {},
   "source": [
    "# Parametry\n",
    "### m - liczba bitów na jakich zapisany jest pojedyńczy symbol\n",
    "### n - liczba symboli w całym słowie\n",
    "### k - liczba symboli do zakodowania jako wiadomośc w słowie\n",
    "### t - liczba poprawialnych symboli\n",
    "### Współczynnik wiadomości - stosunek liczby symboli do zakodowania w słowie do liczby wszystich symboli w słowie\n",
    "### Zdolność korekcyjna - stosunek liczby poprawialnych symboli do liczby wszystkich symboli w słowie\n",
    "### Maksymalna ilość bitów - ile maksymalnie bitów może pomieścić jedna wiadmość"
   ]
  },
  {
   "cell_type": "code",
   "execution_count": 39,
   "metadata": {
    "ExecuteTime": {
     "end_time": "2023-05-11T09:55:27.032752289Z",
     "start_time": "2023-05-11T09:55:04.054166542Z"
    }
   },
   "outputs": [
    {
     "data": {
      "text/plain": "<IPython.core.display.HTML object>",
      "text/html": "<table border=\"1\" class=\"dataframe\">\n  <thead>\n    <tr style=\"text-align: right;\">\n      <th>błędy w części wiadomości</th>\n      <th>błędy w części korekcyjnej</th>\n      <th>sukces odkodowania wiadomosci [%]</th>\n      <th>porażka wykrycia błędu [%]</th>\n      <th>stopień zepsucia wiadomości [%]</th>\n    </tr>\n  </thead>\n  <tbody>\n    <tr>\n      <td>0</td>\n      <td>0</td>\n      <td>100.0</td>\n      <td>0.0</td>\n      <td>0.00</td>\n    </tr>\n    <tr>\n      <td>0</td>\n      <td>2</td>\n      <td>100.0</td>\n      <td>0.0</td>\n      <td>13.33</td>\n    </tr>\n    <tr>\n      <td>0</td>\n      <td>3</td>\n      <td>100.0</td>\n      <td>0.0</td>\n      <td>20.00</td>\n    </tr>\n    <tr>\n      <td>1</td>\n      <td>0</td>\n      <td>100.0</td>\n      <td>0.0</td>\n      <td>6.67</td>\n    </tr>\n    <tr>\n      <td>1</td>\n      <td>1</td>\n      <td>100.0</td>\n      <td>0.0</td>\n      <td>13.33</td>\n    </tr>\n    <tr>\n      <td>1</td>\n      <td>2</td>\n      <td>100.0</td>\n      <td>0.0</td>\n      <td>20.00</td>\n    </tr>\n    <tr>\n      <td>3</td>\n      <td>0</td>\n      <td>100.0</td>\n      <td>0.0</td>\n      <td>20.00</td>\n    </tr>\n    <tr>\n      <td>0</td>\n      <td>1</td>\n      <td>100.0</td>\n      <td>0.0</td>\n      <td>6.67</td>\n    </tr>\n    <tr>\n      <td>2</td>\n      <td>0</td>\n      <td>100.0</td>\n      <td>0.0</td>\n      <td>13.33</td>\n    </tr>\n    <tr>\n      <td>2</td>\n      <td>1</td>\n      <td>100.0</td>\n      <td>0.0</td>\n      <td>20.00</td>\n    </tr>\n    <tr>\n      <td>4</td>\n      <td>2</td>\n      <td>0.0</td>\n      <td>7.2</td>\n      <td>40.00</td>\n    </tr>\n    <tr>\n      <td>4</td>\n      <td>1</td>\n      <td>0.0</td>\n      <td>9.4</td>\n      <td>33.33</td>\n    </tr>\n    <tr>\n      <td>4</td>\n      <td>4</td>\n      <td>0.0</td>\n      <td>8.9</td>\n      <td>53.33</td>\n    </tr>\n    <tr>\n      <td>4</td>\n      <td>3</td>\n      <td>0.0</td>\n      <td>8.2</td>\n      <td>46.67</td>\n    </tr>\n    <tr>\n      <td>3</td>\n      <td>4</td>\n      <td>0.0</td>\n      <td>9.4</td>\n      <td>46.67</td>\n    </tr>\n    <tr>\n      <td>9</td>\n      <td>0</td>\n      <td>0.0</td>\n      <td>9.0</td>\n      <td>60.00</td>\n    </tr>\n    <tr>\n      <td>0</td>\n      <td>6</td>\n      <td>0.0</td>\n      <td>10.0</td>\n      <td>40.00</td>\n    </tr>\n    <tr>\n      <td>4</td>\n      <td>0</td>\n      <td>0.0</td>\n      <td>4.5</td>\n      <td>26.67</td>\n    </tr>\n    <tr>\n      <td>2</td>\n      <td>4</td>\n      <td>0.0</td>\n      <td>10.5</td>\n      <td>40.00</td>\n    </tr>\n    <tr>\n      <td>3</td>\n      <td>3</td>\n      <td>0.0</td>\n      <td>8.3</td>\n      <td>40.00</td>\n    </tr>\n    <tr>\n      <td>3</td>\n      <td>2</td>\n      <td>0.0</td>\n      <td>9.0</td>\n      <td>33.33</td>\n    </tr>\n    <tr>\n      <td>3</td>\n      <td>1</td>\n      <td>0.0</td>\n      <td>5.4</td>\n      <td>26.67</td>\n    </tr>\n    <tr>\n      <td>2</td>\n      <td>3</td>\n      <td>0.0</td>\n      <td>9.1</td>\n      <td>33.33</td>\n    </tr>\n    <tr>\n      <td>2</td>\n      <td>2</td>\n      <td>0.0</td>\n      <td>4.5</td>\n      <td>26.67</td>\n    </tr>\n    <tr>\n      <td>1</td>\n      <td>4</td>\n      <td>0.0</td>\n      <td>7.6</td>\n      <td>33.33</td>\n    </tr>\n    <tr>\n      <td>1</td>\n      <td>3</td>\n      <td>0.0</td>\n      <td>5.5</td>\n      <td>26.67</td>\n    </tr>\n    <tr>\n      <td>0</td>\n      <td>4</td>\n      <td>0.0</td>\n      <td>5.4</td>\n      <td>26.67</td>\n    </tr>\n    <tr>\n      <td>9</td>\n      <td>6</td>\n      <td>0.0</td>\n      <td>8.7</td>\n      <td>100.00</td>\n    </tr>\n  </tbody>\n</table>"
     },
     "metadata": {},
     "output_type": "display_data"
    }
   ],
   "source": [
    "solomon = ReedSolomonCode(4, 3)\n",
    "arr = []\n",
    "T_COLS = ['błędy w części wiadomości', 'błędy w części korekcyjnej', 'sukces odkodowania wiadomosci [%]', 'porażka wykrycia błędu [%]', 'stopień zepsucia wiadomości [%]']\n",
    "for i in range(5):\n",
    "    for j in range(5):\n",
    "        arr.append([i, j, rs_stat_test(solomon, i, j, True), rs_stat_test(solomon, i, j, False), round(((i + j) / 15) * 100, 2)])\n",
    "\n",
    "arr.append([9, 0, rs_stat_test(solomon, 9, 0, True), rs_stat_test(solomon, 9, 0, False), round((9 / 15) * 100, 2)])\n",
    "arr.append([0, 6, rs_stat_test(solomon, 0, 6, True), rs_stat_test(solomon, 0, 6, False), round((6 / 15) * 100, 2)])\n",
    "arr.append([9, 6, rs_stat_test(solomon, 9, 6, True), rs_stat_test(solomon, 9, 6, False), round((15 / 15) * 100, 2)])\n",
    "\n",
    "frame = pd.DataFrame(data=arr, columns=T_COLS)\n",
    "frame.sort_values(by=['sukces odkodowania wiadomosci [%]'], inplace=True, ascending=False)\n",
    "display(HTML(frame.to_html(index=False)))\n"
   ]
  },
  {
   "cell_type": "code",
   "execution_count": 39,
   "metadata": {
    "ExecuteTime": {
     "end_time": "2023-05-11T09:55:27.033204853Z",
     "start_time": "2023-05-11T09:55:26.982461066Z"
    }
   },
   "outputs": [],
   "source": []
  }
 ],
 "metadata": {
  "kernelspec": {
   "display_name": "Python 3 (ipykernel)",
   "language": "python",
   "name": "python3"
  },
  "language_info": {
   "codemirror_mode": {
    "name": "ipython",
    "version": 3
   },
   "file_extension": ".py",
   "mimetype": "text/x-python",
   "name": "python",
   "nbconvert_exporter": "python",
   "pygments_lexer": "ipython3",
   "version": "3.10.6"
  }
 },
 "nbformat": 4,
 "nbformat_minor": 1
}
