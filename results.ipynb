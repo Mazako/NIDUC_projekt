{
 "cells": [
  {
   "cell_type": "code",
   "execution_count": 3,
   "metadata": {
    "collapsed": true,
    "ExecuteTime": {
     "end_time": "2023-05-09T07:36:04.339364667Z",
     "start_time": "2023-05-09T07:36:04.286777066Z"
    }
   },
   "outputs": [],
   "source": [
    "import numpy as np\n",
    "import pandas as pd\n",
    "def Rs_params_calc(m, t):\n",
    "    n = pow(2, m) - 1\n",
    "    k = n - 2 * t\n",
    "    code_rate = round((k / n) * 100, 2)\n",
    "    block_correction = round((t / n) * 100, 2)\n",
    "    max_bits = n * k\n",
    "    return [m, n, k, t, code_rate, block_correction, max_bits]"
   ]
  },
  {
   "cell_type": "code",
   "execution_count": 4,
   "outputs": [
    {
     "data": {
      "text/plain": "   m    n    k  t  Współczynnik wiadomości [%]  Zdolność korekcyjna [%]   \n0  4   15   11  2                        73.33                    13.33  \\\n1  8  255  239  8                        93.73                     3.14   \n\n   Maksymalna ilość bitów  \n0                     165  \n1                   60945  ",
      "text/html": "<div>\n<style scoped>\n    .dataframe tbody tr th:only-of-type {\n        vertical-align: middle;\n    }\n\n    .dataframe tbody tr th {\n        vertical-align: top;\n    }\n\n    .dataframe thead th {\n        text-align: right;\n    }\n</style>\n<table border=\"1\" class=\"dataframe\">\n  <thead>\n    <tr style=\"text-align: right;\">\n      <th></th>\n      <th>m</th>\n      <th>n</th>\n      <th>k</th>\n      <th>t</th>\n      <th>Współczynnik wiadomości [%]</th>\n      <th>Zdolność korekcyjna [%]</th>\n      <th>Maksymalna ilość bitów</th>\n    </tr>\n  </thead>\n  <tbody>\n    <tr>\n      <th>0</th>\n      <td>4</td>\n      <td>15</td>\n      <td>11</td>\n      <td>2</td>\n      <td>73.33</td>\n      <td>13.33</td>\n      <td>165</td>\n    </tr>\n    <tr>\n      <th>1</th>\n      <td>8</td>\n      <td>255</td>\n      <td>239</td>\n      <td>8</td>\n      <td>93.73</td>\n      <td>3.14</td>\n      <td>60945</td>\n    </tr>\n  </tbody>\n</table>\n</div>"
     },
     "execution_count": 4,
     "metadata": {},
     "output_type": "execute_result"
    }
   ],
   "source": [
    "data = np.array([Rs_params_calc(4, 2), Rs_params_calc(8, 8)])\n",
    "columns = [\"m\", \"n\", \"k\", \"t\", \"Współczynnik wiadomości [%]\", 'Zdolność korekcyjna [%]', 'Maksymalna ilość bitów']\n",
    "frame = pd.DataFrame(data=data, columns=columns)\n",
    "frame = frame.astype({'m':'int','n':'int', 'k':'int', 't':'int', 'Maksymalna ilość bitów':'int'})\n",
    "frame"
   ],
   "metadata": {
    "collapsed": false,
    "ExecuteTime": {
     "end_time": "2023-05-09T07:36:04.340155800Z",
     "start_time": "2023-05-09T07:36:04.331599942Z"
    }
   }
  },
  {
   "cell_type": "markdown",
   "source": [
    "# Parametry\n",
    "### m - liczba bitów na jakich zapisany jest pojedyńczy symbol\n",
    "### n - liczba symboli w całym słowie\n",
    "### k - liczba symboli do zakodowania jako wiadomośc w słowie\n",
    "### t - liczba poprawialnych symboli\n",
    "### Współczynnik wiadomości - stosunek liczby symboli do zakodowania w słowie do liczby wszystich symboli w słowie\n",
    "### Zdolność korekcyjna - stosunek liczby poprawialnych symboli do liczby wszystkich symboli w słowie\n",
    "### Maksymalna ilość bitów - ile maksymalnie bitów może pomieścić jedna wiadmość"
   ],
   "metadata": {
    "collapsed": false
   }
  }
 ],
 "metadata": {
  "kernelspec": {
   "display_name": "Python 3",
   "language": "python",
   "name": "python3"
  },
  "language_info": {
   "codemirror_mode": {
    "name": "ipython",
    "version": 2
   },
   "file_extension": ".py",
   "mimetype": "text/x-python",
   "name": "python",
   "nbconvert_exporter": "python",
   "pygments_lexer": "ipython2",
   "version": "2.7.6"
  }
 },
 "nbformat": 4,
 "nbformat_minor": 0
}
