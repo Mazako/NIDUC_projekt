{
 "cells": [
  {
   "cell_type": "code",
   "execution_count": 2,
   "metadata": {
    "collapsed": true,
    "ExecuteTime": {
     "end_time": "2023-05-08T21:49:39.534345495Z",
     "start_time": "2023-05-08T21:49:39.263897249Z"
    }
   },
   "outputs": [],
   "source": [
    "import numpy as np\n",
    "import pandas as pd\n",
    "def Rs_params_calc(m, t):\n",
    "    n = pow(2, m) - 1\n",
    "    k = n - 2 * t\n",
    "    code_rate = round((k / n) * 100, 2)\n",
    "    block_correction = round((t / n) * 100, 2)\n",
    "    max_bits = n * k\n",
    "    return [m, n, k, t, code_rate, block_correction, max_bits]"
   ]
  },
  {
   "cell_type": "code",
   "execution_count": 3,
   "outputs": [
    {
     "data": {
      "text/plain": "   m    n    k   t  Współczynnik wiadomości [%]  Zdolność korekcyjna [%]   \n0  4   15   13   1                        86.67                     6.67  \\\n1  4   15   11   2                        73.33                    13.33   \n2  4   15    9   3                        60.00                    20.00   \n3  4   15    7   4                        46.67                    26.67   \n4  4   15    5   5                        33.33                    33.33   \n5  8  255  251   2                        98.43                     0.78   \n6  8  255  239   8                        93.73                     3.14   \n7  8  255  231  12                        90.59                     4.71   \n8  8  255  211  22                        82.75                     8.63   \n\n   Maksymalna ilość bitów  \n0                      52  \n1                      44  \n2                      36  \n3                      28  \n4                      20  \n5                    2008  \n6                    1912  \n7                    1848  \n8                    1688  ",
      "text/html": "<div>\n<style scoped>\n    .dataframe tbody tr th:only-of-type {\n        vertical-align: middle;\n    }\n\n    .dataframe tbody tr th {\n        vertical-align: top;\n    }\n\n    .dataframe thead th {\n        text-align: right;\n    }\n</style>\n<table border=\"1\" class=\"dataframe\">\n  <thead>\n    <tr style=\"text-align: right;\">\n      <th></th>\n      <th>m</th>\n      <th>n</th>\n      <th>k</th>\n      <th>t</th>\n      <th>Współczynnik wiadomości [%]</th>\n      <th>Zdolność korekcyjna [%]</th>\n      <th>Maksymalna ilość bitów</th>\n    </tr>\n  </thead>\n  <tbody>\n    <tr>\n      <th>0</th>\n      <td>4</td>\n      <td>15</td>\n      <td>13</td>\n      <td>1</td>\n      <td>86.67</td>\n      <td>6.67</td>\n      <td>52</td>\n    </tr>\n    <tr>\n      <th>1</th>\n      <td>4</td>\n      <td>15</td>\n      <td>11</td>\n      <td>2</td>\n      <td>73.33</td>\n      <td>13.33</td>\n      <td>44</td>\n    </tr>\n    <tr>\n      <th>2</th>\n      <td>4</td>\n      <td>15</td>\n      <td>9</td>\n      <td>3</td>\n      <td>60.00</td>\n      <td>20.00</td>\n      <td>36</td>\n    </tr>\n    <tr>\n      <th>3</th>\n      <td>4</td>\n      <td>15</td>\n      <td>7</td>\n      <td>4</td>\n      <td>46.67</td>\n      <td>26.67</td>\n      <td>28</td>\n    </tr>\n    <tr>\n      <th>4</th>\n      <td>4</td>\n      <td>15</td>\n      <td>5</td>\n      <td>5</td>\n      <td>33.33</td>\n      <td>33.33</td>\n      <td>20</td>\n    </tr>\n    <tr>\n      <th>5</th>\n      <td>8</td>\n      <td>255</td>\n      <td>251</td>\n      <td>2</td>\n      <td>98.43</td>\n      <td>0.78</td>\n      <td>2008</td>\n    </tr>\n    <tr>\n      <th>6</th>\n      <td>8</td>\n      <td>255</td>\n      <td>239</td>\n      <td>8</td>\n      <td>93.73</td>\n      <td>3.14</td>\n      <td>1912</td>\n    </tr>\n    <tr>\n      <th>7</th>\n      <td>8</td>\n      <td>255</td>\n      <td>231</td>\n      <td>12</td>\n      <td>90.59</td>\n      <td>4.71</td>\n      <td>1848</td>\n    </tr>\n    <tr>\n      <th>8</th>\n      <td>8</td>\n      <td>255</td>\n      <td>211</td>\n      <td>22</td>\n      <td>82.75</td>\n      <td>8.63</td>\n      <td>1688</td>\n    </tr>\n  </tbody>\n</table>\n</div>"
     },
     "execution_count": 3,
     "metadata": {},
     "output_type": "execute_result"
    }
   ],
   "source": [
    "data = np.array([Rs_params_calc(4, 1),\n",
    "         Rs_params_calc(4, 2),\n",
    "         Rs_params_calc(4, 3),\n",
    "         Rs_params_calc(4, 4),\n",
    "         Rs_params_calc(4, 5),\n",
    "         Rs_params_calc(8, 2),\n",
    "         Rs_params_calc(8, 8),\n",
    "         Rs_params_calc(8, 12),\n",
    "         Rs_params_calc(8, 22)\n",
    "         ])\n",
    "columns = [\"m\", \"n\", \"k\", \"t\", \"Współczynnik wiadomości [%]\", 'Zdolność korekcyjna [%]', 'Maksymalna ilość bitów']\n",
    "frame = pd.DataFrame(data=data, columns=columns)\n",
    "frame = frame.astype({'m':'int','n':'int', 'k':'int', 't':'int', 'Maksymalna ilość bitów':'int'})\n",
    "frame"
   ],
   "metadata": {
    "collapsed": false,
    "ExecuteTime": {
     "end_time": "2023-05-08T21:49:39.554075030Z",
     "start_time": "2023-05-08T21:49:39.547365317Z"
    }
   }
  },
  {
   "cell_type": "markdown",
   "source": [
    "# Parametry\n",
    "### m - liczba bitów na jakich zapisany jest pojedyńczy symbol\n",
    "### n - liczba symboli w całym słowie\n",
    "### k - liczba symboli do zakodowania jako wiadomośc w słowie\n",
    "### t - liczba poprawialnych symboli\n",
    "### Współczynnik wiadomości - stosunek liczby symboli do zakodowania w słowie do liczby wszystich symboli w słowie\n",
    "### Zdolność korekcyjna - stosunek liczby poprawialnych symboli do liczby wszystkich symboli w słowie\n",
    "### Maksymalna ilość bitów - ile maksymalnie bitów może pomieścić jedna wiadmość"
   ],
   "metadata": {
    "collapsed": false
   }
  }
 ],
 "metadata": {
  "kernelspec": {
   "display_name": "Python 3",
   "language": "python",
   "name": "python3"
  },
  "language_info": {
   "codemirror_mode": {
    "name": "ipython",
    "version": 2
   },
   "file_extension": ".py",
   "mimetype": "text/x-python",
   "name": "python",
   "nbconvert_exporter": "python",
   "pygments_lexer": "ipython2",
   "version": "2.7.6"
  }
 },
 "nbformat": 4,
 "nbformat_minor": 0
}
