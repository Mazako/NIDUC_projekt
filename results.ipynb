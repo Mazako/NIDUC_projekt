{
 "cells": [
  {
   "cell_type": "code",
   "execution_count": 1,
   "metadata": {
    "collapsed": true,
    "ExecuteTime": {
     "end_time": "2023-05-12T10:02:28.303784824Z",
     "start_time": "2023-05-12T10:02:28.085780724Z"
    }
   },
   "outputs": [],
   "source": [
    "import numpy as np\n",
    "import pandas as pd\n",
    "from IPython.display import display, HTML\n",
    "from reed_solomon_code.ReedSolomonCode import ReedSolomonCode\n",
    "\n",
    "def rs_params_calc(m, t):\n",
    "    n = pow(2, m) - 1\n",
    "    k = n - 2 * t\n",
    "    code_rate = round((k / n) * 100, 2)\n",
    "    block_correction = round((t / n) * 100, 2)\n",
    "    max_bits = n * k\n",
    "    return [m, n, k, t, code_rate, block_correction, max_bits]\n",
    "\n",
    "def rs_stat_test(solomon, poly_errors, parity_errors, is_decoding_success):\n",
    "    \"\"\"\n",
    "\n",
    "    :type solomon: ReedSolomonCode\n",
    "    \"\"\"\n",
    "    correct_probes = 0\n",
    "    decoded_but_good = 0\n",
    "    count = 1000\n",
    "    for i in range(count):\n",
    "        rand_message = ReedSolomonCode.generate_random_message(solomon.k, solomon.m)\n",
    "        message = ReedSolomonCode.array_to_binary(rand_message, solomon.m)\n",
    "        encoded_message = solomon.encode_number(message)\n",
    "        mesage_with_errors = solomon.add_errors_string(poly_errors, encoded_message, is_parity=False)\n",
    "        mesage_with_errors = solomon.add_errors_string(parity_errors, mesage_with_errors, is_parity=True)\n",
    "        try:\n",
    "            decoded_message = solomon.decode_number(mesage_with_errors)\n",
    "            if decoded_message == ReedSolomonCode.remove_leading_zeros(message):\n",
    "                correct_probes += 1\n",
    "            else:\n",
    "                decoded_but_good += 1\n",
    "\n",
    "        except:\n",
    "            continue\n",
    "    if is_decoding_success:\n",
    "        return (correct_probes / count) * 100\n",
    "    return (decoded_but_good / count) * 100\n",
    "\n",
    "pd.set_option('display.max_rows', None)\n"
   ]
  },
  {
   "cell_type": "code",
   "execution_count": 2,
   "metadata": {
    "ExecuteTime": {
     "end_time": "2023-05-12T10:02:28.318388843Z",
     "start_time": "2023-05-12T10:02:28.311503876Z"
    }
   },
   "outputs": [
    {
     "data": {
      "text/plain": "   m    n    k  t  Współczynnik wiadomości [%]  Zdolność korekcyjna [%]   \n0  4   15    9  3                        60.00                    20.00  \\\n1  8  255  239  8                        93.73                     3.14   \n\n   Maksymalna ilość bitów  \n0                     135  \n1                   60945  ",
      "text/html": "<div>\n<style scoped>\n    .dataframe tbody tr th:only-of-type {\n        vertical-align: middle;\n    }\n\n    .dataframe tbody tr th {\n        vertical-align: top;\n    }\n\n    .dataframe thead th {\n        text-align: right;\n    }\n</style>\n<table border=\"1\" class=\"dataframe\">\n  <thead>\n    <tr style=\"text-align: right;\">\n      <th></th>\n      <th>m</th>\n      <th>n</th>\n      <th>k</th>\n      <th>t</th>\n      <th>Współczynnik wiadomości [%]</th>\n      <th>Zdolność korekcyjna [%]</th>\n      <th>Maksymalna ilość bitów</th>\n    </tr>\n  </thead>\n  <tbody>\n    <tr>\n      <th>0</th>\n      <td>4</td>\n      <td>15</td>\n      <td>9</td>\n      <td>3</td>\n      <td>60.00</td>\n      <td>20.00</td>\n      <td>135</td>\n    </tr>\n    <tr>\n      <th>1</th>\n      <td>8</td>\n      <td>255</td>\n      <td>239</td>\n      <td>8</td>\n      <td>93.73</td>\n      <td>3.14</td>\n      <td>60945</td>\n    </tr>\n  </tbody>\n</table>\n</div>"
     },
     "execution_count": 2,
     "metadata": {},
     "output_type": "execute_result"
    }
   ],
   "source": [
    "data = np.array([rs_params_calc(4, 3), rs_params_calc(8, 8)])\n",
    "columns = [\"m\", \"n\", \"k\", \"t\", \"Współczynnik wiadomości [%]\", 'Zdolność korekcyjna [%]', 'Maksymalna ilość bitów']\n",
    "frame = pd.DataFrame(data=data, columns=columns)\n",
    "frame = frame.astype({'m':'int','n':'int', 'k':'int', 't':'int', 'Maksymalna ilość bitów':'int'})\n",
    "frame"
   ]
  },
  {
   "cell_type": "markdown",
   "metadata": {},
   "source": [
    "# Parametry\n",
    "### m - liczba bitów na jakich zapisany jest pojedyńczy symbol\n",
    "### n - liczba symboli w całym słowie\n",
    "### k - liczba symboli do zakodowania jako wiadomośc w słowie\n",
    "### t - liczba poprawialnych symboli\n",
    "### Współczynnik wiadomości - stosunek liczby symboli do zakodowania w słowie do liczby wszystich symboli w słowie\n",
    "### Zdolność korekcyjna - stosunek liczby poprawialnych symboli do liczby wszystkich symboli w słowie\n",
    "### Maksymalna ilość bitów - ile maksymalnie bitów może pomieścić jedna wiadmość"
   ]
  },
  {
   "cell_type": "code",
   "execution_count": 3,
   "metadata": {
    "ExecuteTime": {
     "end_time": "2023-05-12T10:02:51.468906340Z",
     "start_time": "2023-05-12T10:02:28.402256680Z"
    }
   },
   "outputs": [
    {
     "data": {
      "text/plain": "<IPython.core.display.HTML object>",
      "text/html": "<table border=\"1\" class=\"dataframe\">\n  <thead>\n    <tr style=\"text-align: right;\">\n      <th>błędy w części wiadomości</th>\n      <th>błędy w części korekcyjnej</th>\n      <th>sukces odkodowania wiadomosci [%]</th>\n      <th>porażka wykrycia błędu [%]</th>\n      <th>stopień zepsucia wiadomości [%]</th>\n    </tr>\n  </thead>\n  <tbody>\n    <tr>\n      <td>0</td>\n      <td>0</td>\n      <td>100.0</td>\n      <td>0.0</td>\n      <td>0.00</td>\n    </tr>\n    <tr>\n      <td>0</td>\n      <td>2</td>\n      <td>100.0</td>\n      <td>0.0</td>\n      <td>13.33</td>\n    </tr>\n    <tr>\n      <td>0</td>\n      <td>3</td>\n      <td>100.0</td>\n      <td>0.0</td>\n      <td>20.00</td>\n    </tr>\n    <tr>\n      <td>1</td>\n      <td>0</td>\n      <td>100.0</td>\n      <td>0.0</td>\n      <td>6.67</td>\n    </tr>\n    <tr>\n      <td>1</td>\n      <td>1</td>\n      <td>100.0</td>\n      <td>0.0</td>\n      <td>13.33</td>\n    </tr>\n    <tr>\n      <td>1</td>\n      <td>2</td>\n      <td>100.0</td>\n      <td>0.0</td>\n      <td>20.00</td>\n    </tr>\n    <tr>\n      <td>3</td>\n      <td>0</td>\n      <td>100.0</td>\n      <td>0.0</td>\n      <td>20.00</td>\n    </tr>\n    <tr>\n      <td>0</td>\n      <td>1</td>\n      <td>100.0</td>\n      <td>0.0</td>\n      <td>6.67</td>\n    </tr>\n    <tr>\n      <td>2</td>\n      <td>0</td>\n      <td>100.0</td>\n      <td>0.0</td>\n      <td>13.33</td>\n    </tr>\n    <tr>\n      <td>2</td>\n      <td>1</td>\n      <td>100.0</td>\n      <td>0.0</td>\n      <td>20.00</td>\n    </tr>\n    <tr>\n      <td>4</td>\n      <td>2</td>\n      <td>0.0</td>\n      <td>9.7</td>\n      <td>40.00</td>\n    </tr>\n    <tr>\n      <td>4</td>\n      <td>1</td>\n      <td>0.0</td>\n      <td>8.1</td>\n      <td>33.33</td>\n    </tr>\n    <tr>\n      <td>4</td>\n      <td>4</td>\n      <td>0.0</td>\n      <td>9.2</td>\n      <td>53.33</td>\n    </tr>\n    <tr>\n      <td>4</td>\n      <td>3</td>\n      <td>0.0</td>\n      <td>10.8</td>\n      <td>46.67</td>\n    </tr>\n    <tr>\n      <td>3</td>\n      <td>4</td>\n      <td>0.0</td>\n      <td>10.2</td>\n      <td>46.67</td>\n    </tr>\n    <tr>\n      <td>9</td>\n      <td>0</td>\n      <td>0.0</td>\n      <td>9.6</td>\n      <td>60.00</td>\n    </tr>\n    <tr>\n      <td>0</td>\n      <td>6</td>\n      <td>0.0</td>\n      <td>9.9</td>\n      <td>40.00</td>\n    </tr>\n    <tr>\n      <td>4</td>\n      <td>0</td>\n      <td>0.0</td>\n      <td>4.1</td>\n      <td>26.67</td>\n    </tr>\n    <tr>\n      <td>2</td>\n      <td>4</td>\n      <td>0.0</td>\n      <td>9.8</td>\n      <td>40.00</td>\n    </tr>\n    <tr>\n      <td>3</td>\n      <td>3</td>\n      <td>0.0</td>\n      <td>8.6</td>\n      <td>40.00</td>\n    </tr>\n    <tr>\n      <td>3</td>\n      <td>2</td>\n      <td>0.0</td>\n      <td>7.3</td>\n      <td>33.33</td>\n    </tr>\n    <tr>\n      <td>3</td>\n      <td>1</td>\n      <td>0.0</td>\n      <td>4.8</td>\n      <td>26.67</td>\n    </tr>\n    <tr>\n      <td>2</td>\n      <td>3</td>\n      <td>0.0</td>\n      <td>7.9</td>\n      <td>33.33</td>\n    </tr>\n    <tr>\n      <td>2</td>\n      <td>2</td>\n      <td>0.0</td>\n      <td>6.1</td>\n      <td>26.67</td>\n    </tr>\n    <tr>\n      <td>1</td>\n      <td>4</td>\n      <td>0.0</td>\n      <td>10.6</td>\n      <td>33.33</td>\n    </tr>\n    <tr>\n      <td>1</td>\n      <td>3</td>\n      <td>0.0</td>\n      <td>5.4</td>\n      <td>26.67</td>\n    </tr>\n    <tr>\n      <td>0</td>\n      <td>4</td>\n      <td>0.0</td>\n      <td>4.9</td>\n      <td>26.67</td>\n    </tr>\n    <tr>\n      <td>9</td>\n      <td>6</td>\n      <td>0.0</td>\n      <td>9.5</td>\n      <td>100.00</td>\n    </tr>\n  </tbody>\n</table>"
     },
     "metadata": {},
     "output_type": "display_data"
    }
   ],
   "source": [
    "solomon = ReedSolomonCode(4, 3)\n",
    "arr = []\n",
    "T_COLS = ['błędy w części wiadomości', 'błędy w części korekcyjnej', 'sukces odkodowania wiadomosci [%]', 'porażka wykrycia błędu [%]', 'stopień zepsucia wiadomości [%]']\n",
    "for i in range(5):\n",
    "    for j in range(5):\n",
    "        arr.append([i, j, rs_stat_test(solomon, i, j, True), rs_stat_test(solomon, i, j, False), round(((i + j) / 15) * 100, 2)])\n",
    "\n",
    "arr.append([9, 0, rs_stat_test(solomon, 9, 0, True), rs_stat_test(solomon, 9, 0, False), round((9 / 15) * 100, 2)])\n",
    "arr.append([0, 6, rs_stat_test(solomon, 0, 6, True), rs_stat_test(solomon, 0, 6, False), round((6 / 15) * 100, 2)])\n",
    "arr.append([9, 6, rs_stat_test(solomon, 9, 6, True), rs_stat_test(solomon, 9, 6, False), round((15 / 15) * 100, 2)])\n",
    "\n",
    "frame = pd.DataFrame(data=arr, columns=T_COLS)\n",
    "frame.sort_values(by=['sukces odkodowania wiadomosci [%]'], inplace=True, ascending=False)\n",
    "display(HTML(frame.to_html(index=False)))\n"
   ]
  },
  {
   "cell_type": "markdown",
   "source": [
    "# Wyniki dla 8 bitowego dekodera"
   ],
   "metadata": {
    "collapsed": false
   }
  },
  {
   "cell_type": "code",
   "execution_count": 4,
   "outputs": [
    {
     "data": {
      "text/plain": "    błędy w części wiadomości  błędy w części korekcyjnej   \n0                           0                           0  \\\n1                           0                           1   \n2                           0                           2   \n3                           0                           3   \n4                           0                           4   \n5                           0                           5   \n6                           0                           6   \n7                           0                           7   \n8                           0                           8   \n9                           1                           0   \n10                          1                           1   \n11                          1                           2   \n12                          1                           3   \n13                          1                           4   \n14                          1                           5   \n15                          1                           6   \n16                          1                           7   \n17                          2                           0   \n18                          2                           1   \n19                          2                           2   \n20                          2                           3   \n21                          2                           4   \n22                          2                           5   \n23                          2                           6   \n24                          3                           0   \n25                          3                           1   \n26                          3                           2   \n27                          3                           3   \n28                          3                           4   \n29                          3                           5   \n30                          4                           0   \n31                          4                           1   \n32                          4                           2   \n33                          4                           3   \n34                          4                           4   \n35                          5                           0   \n36                          5                           1   \n37                          5                           2   \n38                          5                           3   \n39                          6                           0   \n40                          6                           1   \n41                          6                           2   \n42                          7                           0   \n43                          7                           1   \n44                          8                           0   \n0                         135                          13   \n1                          21                          14   \n2                          89                          14   \n3                          53                          13   \n4                         233                          15   \n5                         183                          15   \n6                          28                          12   \n7                          19                          14   \n8                          60                          11   \n9                         104                           9   \n10                        188                           9   \n11                        233                          15   \n12                         87                          11   \n13                        137                          16   \n14                         65                          11   \n15                         53                          14   \n16                        143                           9   \n17                         59                          10   \n18                        213                          15   \n19                         20                          10   \n20                         85                          13   \n21                        208                          10   \n22                         18                          16   \n23                        163                          11   \n24                        126                          15   \n25                         13                          14   \n26                        144                          11   \n27                         98                          15   \n28                         51                          11   \n29                        164                          16   \n\n    sukces odkodowania wiadomosci [%]  porażka wykrycia błędu [%]  \n0                               100.0                         0.0  \n1                               100.0                         0.0  \n2                               100.0                         0.0  \n3                               100.0                         0.0  \n4                               100.0                         0.0  \n5                               100.0                         0.0  \n6                               100.0                         0.0  \n7                               100.0                         0.0  \n8                               100.0                         0.0  \n9                               100.0                         0.0  \n10                              100.0                         0.0  \n11                              100.0                         0.0  \n12                              100.0                         0.0  \n13                              100.0                         0.0  \n14                              100.0                         0.0  \n15                              100.0                         0.0  \n16                              100.0                         0.0  \n17                              100.0                         0.0  \n18                              100.0                         0.0  \n19                              100.0                         0.0  \n20                              100.0                         0.0  \n21                              100.0                         0.0  \n22                              100.0                         0.0  \n23                              100.0                         0.0  \n24                              100.0                         0.0  \n25                              100.0                         0.0  \n26                              100.0                         0.0  \n27                              100.0                         0.0  \n28                              100.0                         0.0  \n29                              100.0                         0.0  \n30                              100.0                         0.0  \n31                              100.0                         0.0  \n32                              100.0                         0.0  \n33                              100.0                         0.0  \n34                              100.0                         0.0  \n35                              100.0                         0.0  \n36                              100.0                         0.0  \n37                              100.0                         0.0  \n38                              100.0                         0.0  \n39                              100.0                         0.0  \n40                              100.0                         0.0  \n41                              100.0                         0.0  \n42                              100.0                         0.0  \n43                              100.0                         0.0  \n44                              100.0                         0.0  \n0                                 0.0                         0.0  \n1                                 0.0                         0.0  \n2                                 0.0                         0.0  \n3                                 0.0                         0.0  \n4                                 0.0                         0.0  \n5                                 0.0                         0.0  \n6                                 0.0                         0.0  \n7                                 0.0                         0.0  \n8                                 0.0                         0.0  \n9                                 0.0                         0.0  \n10                                0.0                         0.0  \n11                                0.0                         0.0  \n12                                0.0                         0.0  \n13                                0.0                         0.0  \n14                                0.0                         0.0  \n15                                0.0                         0.0  \n16                                0.0                         0.0  \n17                                0.0                         0.0  \n18                                0.0                         0.0  \n19                                0.0                         0.0  \n20                                0.0                         0.0  \n21                                0.0                         0.0  \n22                                0.0                         0.0  \n23                                0.0                         0.0  \n24                                0.0                         0.0  \n25                                0.0                         0.0  \n26                                0.0                         0.0  \n27                                0.0                         0.0  \n28                                0.0                         0.0  \n29                                0.0                         0.0  ",
      "text/html": "<div>\n<style scoped>\n    .dataframe tbody tr th:only-of-type {\n        vertical-align: middle;\n    }\n\n    .dataframe tbody tr th {\n        vertical-align: top;\n    }\n\n    .dataframe thead th {\n        text-align: right;\n    }\n</style>\n<table border=\"1\" class=\"dataframe\">\n  <thead>\n    <tr style=\"text-align: right;\">\n      <th></th>\n      <th>błędy w części wiadomości</th>\n      <th>błędy w części korekcyjnej</th>\n      <th>sukces odkodowania wiadomosci [%]</th>\n      <th>porażka wykrycia błędu [%]</th>\n    </tr>\n  </thead>\n  <tbody>\n    <tr>\n      <th>0</th>\n      <td>0</td>\n      <td>0</td>\n      <td>100.0</td>\n      <td>0.0</td>\n    </tr>\n    <tr>\n      <th>1</th>\n      <td>0</td>\n      <td>1</td>\n      <td>100.0</td>\n      <td>0.0</td>\n    </tr>\n    <tr>\n      <th>2</th>\n      <td>0</td>\n      <td>2</td>\n      <td>100.0</td>\n      <td>0.0</td>\n    </tr>\n    <tr>\n      <th>3</th>\n      <td>0</td>\n      <td>3</td>\n      <td>100.0</td>\n      <td>0.0</td>\n    </tr>\n    <tr>\n      <th>4</th>\n      <td>0</td>\n      <td>4</td>\n      <td>100.0</td>\n      <td>0.0</td>\n    </tr>\n    <tr>\n      <th>5</th>\n      <td>0</td>\n      <td>5</td>\n      <td>100.0</td>\n      <td>0.0</td>\n    </tr>\n    <tr>\n      <th>6</th>\n      <td>0</td>\n      <td>6</td>\n      <td>100.0</td>\n      <td>0.0</td>\n    </tr>\n    <tr>\n      <th>7</th>\n      <td>0</td>\n      <td>7</td>\n      <td>100.0</td>\n      <td>0.0</td>\n    </tr>\n    <tr>\n      <th>8</th>\n      <td>0</td>\n      <td>8</td>\n      <td>100.0</td>\n      <td>0.0</td>\n    </tr>\n    <tr>\n      <th>9</th>\n      <td>1</td>\n      <td>0</td>\n      <td>100.0</td>\n      <td>0.0</td>\n    </tr>\n    <tr>\n      <th>10</th>\n      <td>1</td>\n      <td>1</td>\n      <td>100.0</td>\n      <td>0.0</td>\n    </tr>\n    <tr>\n      <th>11</th>\n      <td>1</td>\n      <td>2</td>\n      <td>100.0</td>\n      <td>0.0</td>\n    </tr>\n    <tr>\n      <th>12</th>\n      <td>1</td>\n      <td>3</td>\n      <td>100.0</td>\n      <td>0.0</td>\n    </tr>\n    <tr>\n      <th>13</th>\n      <td>1</td>\n      <td>4</td>\n      <td>100.0</td>\n      <td>0.0</td>\n    </tr>\n    <tr>\n      <th>14</th>\n      <td>1</td>\n      <td>5</td>\n      <td>100.0</td>\n      <td>0.0</td>\n    </tr>\n    <tr>\n      <th>15</th>\n      <td>1</td>\n      <td>6</td>\n      <td>100.0</td>\n      <td>0.0</td>\n    </tr>\n    <tr>\n      <th>16</th>\n      <td>1</td>\n      <td>7</td>\n      <td>100.0</td>\n      <td>0.0</td>\n    </tr>\n    <tr>\n      <th>17</th>\n      <td>2</td>\n      <td>0</td>\n      <td>100.0</td>\n      <td>0.0</td>\n    </tr>\n    <tr>\n      <th>18</th>\n      <td>2</td>\n      <td>1</td>\n      <td>100.0</td>\n      <td>0.0</td>\n    </tr>\n    <tr>\n      <th>19</th>\n      <td>2</td>\n      <td>2</td>\n      <td>100.0</td>\n      <td>0.0</td>\n    </tr>\n    <tr>\n      <th>20</th>\n      <td>2</td>\n      <td>3</td>\n      <td>100.0</td>\n      <td>0.0</td>\n    </tr>\n    <tr>\n      <th>21</th>\n      <td>2</td>\n      <td>4</td>\n      <td>100.0</td>\n      <td>0.0</td>\n    </tr>\n    <tr>\n      <th>22</th>\n      <td>2</td>\n      <td>5</td>\n      <td>100.0</td>\n      <td>0.0</td>\n    </tr>\n    <tr>\n      <th>23</th>\n      <td>2</td>\n      <td>6</td>\n      <td>100.0</td>\n      <td>0.0</td>\n    </tr>\n    <tr>\n      <th>24</th>\n      <td>3</td>\n      <td>0</td>\n      <td>100.0</td>\n      <td>0.0</td>\n    </tr>\n    <tr>\n      <th>25</th>\n      <td>3</td>\n      <td>1</td>\n      <td>100.0</td>\n      <td>0.0</td>\n    </tr>\n    <tr>\n      <th>26</th>\n      <td>3</td>\n      <td>2</td>\n      <td>100.0</td>\n      <td>0.0</td>\n    </tr>\n    <tr>\n      <th>27</th>\n      <td>3</td>\n      <td>3</td>\n      <td>100.0</td>\n      <td>0.0</td>\n    </tr>\n    <tr>\n      <th>28</th>\n      <td>3</td>\n      <td>4</td>\n      <td>100.0</td>\n      <td>0.0</td>\n    </tr>\n    <tr>\n      <th>29</th>\n      <td>3</td>\n      <td>5</td>\n      <td>100.0</td>\n      <td>0.0</td>\n    </tr>\n    <tr>\n      <th>30</th>\n      <td>4</td>\n      <td>0</td>\n      <td>100.0</td>\n      <td>0.0</td>\n    </tr>\n    <tr>\n      <th>31</th>\n      <td>4</td>\n      <td>1</td>\n      <td>100.0</td>\n      <td>0.0</td>\n    </tr>\n    <tr>\n      <th>32</th>\n      <td>4</td>\n      <td>2</td>\n      <td>100.0</td>\n      <td>0.0</td>\n    </tr>\n    <tr>\n      <th>33</th>\n      <td>4</td>\n      <td>3</td>\n      <td>100.0</td>\n      <td>0.0</td>\n    </tr>\n    <tr>\n      <th>34</th>\n      <td>4</td>\n      <td>4</td>\n      <td>100.0</td>\n      <td>0.0</td>\n    </tr>\n    <tr>\n      <th>35</th>\n      <td>5</td>\n      <td>0</td>\n      <td>100.0</td>\n      <td>0.0</td>\n    </tr>\n    <tr>\n      <th>36</th>\n      <td>5</td>\n      <td>1</td>\n      <td>100.0</td>\n      <td>0.0</td>\n    </tr>\n    <tr>\n      <th>37</th>\n      <td>5</td>\n      <td>2</td>\n      <td>100.0</td>\n      <td>0.0</td>\n    </tr>\n    <tr>\n      <th>38</th>\n      <td>5</td>\n      <td>3</td>\n      <td>100.0</td>\n      <td>0.0</td>\n    </tr>\n    <tr>\n      <th>39</th>\n      <td>6</td>\n      <td>0</td>\n      <td>100.0</td>\n      <td>0.0</td>\n    </tr>\n    <tr>\n      <th>40</th>\n      <td>6</td>\n      <td>1</td>\n      <td>100.0</td>\n      <td>0.0</td>\n    </tr>\n    <tr>\n      <th>41</th>\n      <td>6</td>\n      <td>2</td>\n      <td>100.0</td>\n      <td>0.0</td>\n    </tr>\n    <tr>\n      <th>42</th>\n      <td>7</td>\n      <td>0</td>\n      <td>100.0</td>\n      <td>0.0</td>\n    </tr>\n    <tr>\n      <th>43</th>\n      <td>7</td>\n      <td>1</td>\n      <td>100.0</td>\n      <td>0.0</td>\n    </tr>\n    <tr>\n      <th>44</th>\n      <td>8</td>\n      <td>0</td>\n      <td>100.0</td>\n      <td>0.0</td>\n    </tr>\n    <tr>\n      <th>0</th>\n      <td>135</td>\n      <td>13</td>\n      <td>0.0</td>\n      <td>0.0</td>\n    </tr>\n    <tr>\n      <th>1</th>\n      <td>21</td>\n      <td>14</td>\n      <td>0.0</td>\n      <td>0.0</td>\n    </tr>\n    <tr>\n      <th>2</th>\n      <td>89</td>\n      <td>14</td>\n      <td>0.0</td>\n      <td>0.0</td>\n    </tr>\n    <tr>\n      <th>3</th>\n      <td>53</td>\n      <td>13</td>\n      <td>0.0</td>\n      <td>0.0</td>\n    </tr>\n    <tr>\n      <th>4</th>\n      <td>233</td>\n      <td>15</td>\n      <td>0.0</td>\n      <td>0.0</td>\n    </tr>\n    <tr>\n      <th>5</th>\n      <td>183</td>\n      <td>15</td>\n      <td>0.0</td>\n      <td>0.0</td>\n    </tr>\n    <tr>\n      <th>6</th>\n      <td>28</td>\n      <td>12</td>\n      <td>0.0</td>\n      <td>0.0</td>\n    </tr>\n    <tr>\n      <th>7</th>\n      <td>19</td>\n      <td>14</td>\n      <td>0.0</td>\n      <td>0.0</td>\n    </tr>\n    <tr>\n      <th>8</th>\n      <td>60</td>\n      <td>11</td>\n      <td>0.0</td>\n      <td>0.0</td>\n    </tr>\n    <tr>\n      <th>9</th>\n      <td>104</td>\n      <td>9</td>\n      <td>0.0</td>\n      <td>0.0</td>\n    </tr>\n    <tr>\n      <th>10</th>\n      <td>188</td>\n      <td>9</td>\n      <td>0.0</td>\n      <td>0.0</td>\n    </tr>\n    <tr>\n      <th>11</th>\n      <td>233</td>\n      <td>15</td>\n      <td>0.0</td>\n      <td>0.0</td>\n    </tr>\n    <tr>\n      <th>12</th>\n      <td>87</td>\n      <td>11</td>\n      <td>0.0</td>\n      <td>0.0</td>\n    </tr>\n    <tr>\n      <th>13</th>\n      <td>137</td>\n      <td>16</td>\n      <td>0.0</td>\n      <td>0.0</td>\n    </tr>\n    <tr>\n      <th>14</th>\n      <td>65</td>\n      <td>11</td>\n      <td>0.0</td>\n      <td>0.0</td>\n    </tr>\n    <tr>\n      <th>15</th>\n      <td>53</td>\n      <td>14</td>\n      <td>0.0</td>\n      <td>0.0</td>\n    </tr>\n    <tr>\n      <th>16</th>\n      <td>143</td>\n      <td>9</td>\n      <td>0.0</td>\n      <td>0.0</td>\n    </tr>\n    <tr>\n      <th>17</th>\n      <td>59</td>\n      <td>10</td>\n      <td>0.0</td>\n      <td>0.0</td>\n    </tr>\n    <tr>\n      <th>18</th>\n      <td>213</td>\n      <td>15</td>\n      <td>0.0</td>\n      <td>0.0</td>\n    </tr>\n    <tr>\n      <th>19</th>\n      <td>20</td>\n      <td>10</td>\n      <td>0.0</td>\n      <td>0.0</td>\n    </tr>\n    <tr>\n      <th>20</th>\n      <td>85</td>\n      <td>13</td>\n      <td>0.0</td>\n      <td>0.0</td>\n    </tr>\n    <tr>\n      <th>21</th>\n      <td>208</td>\n      <td>10</td>\n      <td>0.0</td>\n      <td>0.0</td>\n    </tr>\n    <tr>\n      <th>22</th>\n      <td>18</td>\n      <td>16</td>\n      <td>0.0</td>\n      <td>0.0</td>\n    </tr>\n    <tr>\n      <th>23</th>\n      <td>163</td>\n      <td>11</td>\n      <td>0.0</td>\n      <td>0.0</td>\n    </tr>\n    <tr>\n      <th>24</th>\n      <td>126</td>\n      <td>15</td>\n      <td>0.0</td>\n      <td>0.0</td>\n    </tr>\n    <tr>\n      <th>25</th>\n      <td>13</td>\n      <td>14</td>\n      <td>0.0</td>\n      <td>0.0</td>\n    </tr>\n    <tr>\n      <th>26</th>\n      <td>144</td>\n      <td>11</td>\n      <td>0.0</td>\n      <td>0.0</td>\n    </tr>\n    <tr>\n      <th>27</th>\n      <td>98</td>\n      <td>15</td>\n      <td>0.0</td>\n      <td>0.0</td>\n    </tr>\n    <tr>\n      <th>28</th>\n      <td>51</td>\n      <td>11</td>\n      <td>0.0</td>\n      <td>0.0</td>\n    </tr>\n    <tr>\n      <th>29</th>\n      <td>164</td>\n      <td>16</td>\n      <td>0.0</td>\n      <td>0.0</td>\n    </tr>\n  </tbody>\n</table>\n</div>"
     },
     "execution_count": 4,
     "metadata": {},
     "output_type": "execute_result"
    }
   ],
   "source": [
    "f1 = pd.read_csv('csv/results.csv', delimiter=';')\n",
    "f1 = f1.drop('ind', axis=1)\n",
    "\n",
    "f2 = pd.read_csv('csv/results2.csv', delimiter=';')\n",
    "f2 = f2.drop('ind', axis=1)\n",
    "\n",
    "rs_8 = pd.concat([f1, f2], axis=0)\n",
    "rs_8.columns = ['błędy w części wiadomości', 'błędy w części korekcyjnej', 'sukces odkodowania wiadomosci [%]', 'porażka wykrycia błędu [%]']\n",
    "rs_8"
   ],
   "metadata": {
    "collapsed": false,
    "ExecuteTime": {
     "end_time": "2023-05-12T10:02:51.502191716Z",
     "start_time": "2023-05-12T10:02:51.470822247Z"
    }
   }
  },
  {
   "cell_type": "code",
   "execution_count": 4,
   "outputs": [],
   "source": [],
   "metadata": {
    "collapsed": false,
    "ExecuteTime": {
     "end_time": "2023-05-12T10:02:51.584136402Z",
     "start_time": "2023-05-12T10:02:51.491934813Z"
    }
   }
  }
 ],
 "metadata": {
  "kernelspec": {
   "display_name": "Python 3 (ipykernel)",
   "language": "python",
   "name": "python3"
  },
  "language_info": {
   "codemirror_mode": {
    "name": "ipython",
    "version": 3
   },
   "file_extension": ".py",
   "mimetype": "text/x-python",
   "name": "python",
   "nbconvert_exporter": "python",
   "pygments_lexer": "ipython3",
   "version": "3.10.6"
  }
 },
 "nbformat": 4,
 "nbformat_minor": 1
}
